{
  "cells": [
    {
      "cell_type": "code",
      "execution_count": 1,
      "metadata": {
        "id": "OgB3nBB093fe"
      },
      "outputs": [],
      "source": [
        "import pandas as pd\n",
        "import os\n",
        "import time\n",
        "\n",
        "from tensorflow.keras.models import load_model\n",
        "from sklearn.metrics import classification_report, confusion_matrix\n",
        "import matplotlib.pyplot as plt\n",
        "import seaborn as sns\n",
        "\n",
        "from LSTM.TR_preprocess import preprocess\n",
        "from LSTM.LSTM_classifier import BiLSTMclf\n",
        "from tools.tools import evaluate"
      ]
    },
    {
      "cell_type": "markdown",
      "metadata": {
        "id": "ss3Ns14s93fi"
      },
      "source": [
        "#### Load training and test data sets"
      ]
    },
    {
      "cell_type": "code",
      "execution_count": 2,
      "metadata": {
        "id": "vUMvLkZy93fl"
      },
      "outputs": [],
      "source": [
        "pos_train_path = os.path.join('Data', 'pos_train.csv')\n",
        "pos_train = pd.read_csv(pos_train_path)\n",
        "\n",
        "neg_train_path = os.path.join('Data', 'neg_train.csv')\n",
        "neg_train = pd.read_csv(neg_train_path)\n",
        "\n",
        "pos_test_path = os.path.join('Data', 'pos_test.csv')\n",
        "pos_test = pd.read_csv(pos_test_path)\n",
        "\n",
        "neg_test_path = os.path.join('Data', 'neg_test.csv')\n",
        "neg_test = pd.read_csv(neg_test_path)"
      ]
    },
    {
      "cell_type": "markdown",
      "metadata": {
        "id": "jBSpHIHV93fm"
      },
      "source": [
        "#### Preprocessing data\n",
        "\n",
        "Reconstructs data into regularly intervaled time sequences (10 minut intervals)"
      ]
    },
    {
      "cell_type": "code",
      "execution_count": 3,
      "metadata": {
        "colab": {
          "base_uri": "https://localhost:8080/"
        },
        "id": "hMDjyzzw93fn",
        "outputId": "0b9d958f-9b06-4ad8-cce6-d532028bac54"
      },
      "outputs": [
        {
          "name": "stdout",
          "output_type": "stream",
          "text": [
            "Preprocessing training data...\n"
          ]
        },
        {
          "name": "stderr",
          "output_type": "stream",
          "text": [
            "generate: 100%|██████████| 359/359 [00:13<00:00, 25.81it/s]\n",
            "generate: 100%|██████████| 357/357 [00:10<00:00, 34.95it/s] \n"
          ]
        },
        {
          "name": "stdout",
          "output_type": "stream",
          "text": [
            "Train data shape: (716, 1312, 5) train labels shape: (716,)\n",
            "Preprocessing test data...\n"
          ]
        },
        {
          "name": "stderr",
          "output_type": "stream",
          "text": [
            "generate: 100%|██████████| 37/37 [00:00<00:00, 48.26it/s]\n",
            "generate: 100%|██████████| 37/37 [00:00<00:00, 57.64it/s] "
          ]
        },
        {
          "name": "stdout",
          "output_type": "stream",
          "text": [
            "Test data shape: (74, 1312, 5) test labels shape: (74,)\n"
          ]
        },
        {
          "name": "stderr",
          "output_type": "stream",
          "text": [
            "\n"
          ]
        }
      ],
      "source": [
        "print('Preprocessing training data...')\n",
        "train_data, train_labels, max_times = preprocess(pos_train, neg_train)\n",
        "input_shape = train_data.shape\n",
        "print(f'Train data shape: {train_data.shape} train labels shape: {train_labels.shape}')\n",
        "\n",
        "train_data = train_data.tolist()\n",
        "train_labels = train_labels.tolist()\n",
        "\n",
        "print('Preprocessing test data...')\n",
        "test_data, test_labels, _ = preprocess(pos_test, neg_test, max_times=max_times)\n",
        "print(f'Test data shape: {test_data.shape} test labels shape: {test_labels.shape}')\n",
        "\n",
        "test_data = test_data.tolist()\n",
        "test_labels = test_labels.tolist()"
      ]
    },
    {
      "cell_type": "markdown",
      "metadata": {
        "id": "pv22T0f693fq"
      },
      "source": [
        "#### Instantiate Bidirectional LSTM model"
      ]
    },
    {
      "cell_type": "code",
      "execution_count": 4,
      "metadata": {
        "colab": {
          "base_uri": "https://localhost:8080/"
        },
        "id": "tcXQ_3MA93fr",
        "outputId": "88883798-5370-4693-89c4-8e112906cf9c"
      },
      "outputs": [
        {
          "name": "stdout",
          "output_type": "stream",
          "text": [
            "Model: \"sequential\"\n",
            "_________________________________________________________________\n",
            "Layer (type)                 Output Shape              Param #   \n",
            "=================================================================\n",
            "masking (Masking)            (None, 1312, 5)           0         \n",
            "_________________________________________________________________\n",
            "bidirectional (Bidirectional (None, 400)               329600    \n",
            "_________________________________________________________________\n",
            "dense (Dense)                (None, 1)                 401       \n",
            "=================================================================\n",
            "Total params: 330,001\n",
            "Trainable params: 330,001\n",
            "Non-trainable params: 0\n",
            "_________________________________________________________________\n"
          ]
        }
      ],
      "source": [
        "clf = BiLSTMclf(input_shape)\n",
        "clf.model.summary()"
      ]
    },
    {
      "cell_type": "markdown",
      "metadata": {
        "id": "QoUc7wwE93fr"
      },
      "source": [
        "#### Train different batch sizes with 5-fold cross validation"
      ]
    },
    {
      "cell_type": "code",
      "execution_count": 5,
      "metadata": {
        "colab": {
          "base_uri": "https://localhost:8080/",
          "height": 1000
        },
        "id": "R61q_0JQ93fs",
        "outputId": "ddd5e811-2017-439d-e6dc-03ac300ffdd2"
      },
      "outputs": [
        {
          "name": "stdout",
          "output_type": "stream",
          "text": [
            "Cross validation with batch size 32.\n",
            "Beginning training LSTM with 5-fold validation...\n",
            "Epoch 1/10\n",
            "18/18 [==============================] - 354s 19s/step - loss: 0.6407 - accuracy: 0.6632\n",
            "Epoch 2/10\n",
            "15/18 [========================>.....] - ETA: 58s - loss: 0.6005 - accuracy: 0.6917 "
          ]
        }
      ],
      "source": [
        "batch_sizes = [32, 64, 128, 256]\n",
        "results = []\n",
        "start_time = time.time()\n",
        "for batch_size in batch_sizes:\n",
        "    print(f'Cross validation with batch size {batch_size}.')\n",
        "    metrics = clf.trainCV(train_data, train_labels, 5, batch_size, 10)\n",
        "    metrics['batch_size'] = batch_size\n",
        "    results.append(metrics)\n",
        "\n",
        "    model_path = os.path.join('./LSTM/bi_results', f'LSTM{batch_size}.h5')\n",
        "    clf.model.save(model_path)\n",
        "\n",
        "elapsed_time = time.time() - start_time\n",
        "results_df = pd.DataFrame(results, columns=['batch_size', 'accuracy', 'precision', \n",
        "                                            'recall', 'f1', 'auc'])\n",
        "hr = int(elapsed_time // 3600)\n",
        "elapsed_time %= 3600\n",
        "min = int(elapsed_time // 60)\n",
        "sec = elapsed_time % 60\n",
        "print(f'Total time: {hr:02d}:{min:02d}:{sec:0.2f}')\n",
        "\n",
        "result_path = os.path.join('./LSTM/bi_results', 'results.csv')\n",
        "results_df.to_csv(result_path)\n",
        "results_df\n"
      ]
    },
    {
      "cell_type": "markdown",
      "metadata": {},
      "source": [
        "#### Evaluate selected model\n",
        "\n",
        "We will pick the best of the four trained above, and use it to predict on the test data. "
      ]
    },
    {
      "cell_type": "code",
      "execution_count": 8,
      "metadata": {},
      "outputs": [
        {
          "name": "stdout",
          "output_type": "stream",
          "text": [
            "              precision    recall  f1-score   support\n",
            "\n",
            "           0       0.79      0.81      0.80        37\n",
            "           1       0.81      0.78      0.79        37\n",
            "\n",
            "    accuracy                           0.80        74\n",
            "   macro avg       0.80      0.80      0.80        74\n",
            "weighted avg       0.80      0.80      0.80        74\n",
            "\n"
          ]
        },
        {
          "data": {
            "image/png": "[encoded data removed]",
            "text/plain": [
              "<Figure size 432x288 with 1 Axes>"
            ]
          },
          "metadata": {
            "needs_background": "light"
          },
          "output_type": "display_data"
        }
      ],
      "source": [
        "model_path = os.path.join('./LSTM/results2', 'LSTM128.h5')\n",
        "clf = load_model(model_path, compile=False)\n",
        "\n",
        "pred = clf.predict(test_data).reshape(-1)\n",
        "pred = (pred > 0.5).astype(int)\n",
        "metrics = evaluate(test_labels, pred)\n",
        "\n",
        "print(classification_report(test_labels, pred))\n",
        "cm = confusion_matrix(test_labels, pred)\n",
        "sns.heatmap(cm, annot=True, fmt='d', cbar=False)\n",
        "plt.title('Confusion Matrix')\n",
        "plt.show()"
      ]
    }
  ],
  "metadata": {
    "accelerator": "GPU",
    "colab": {
      "provenance": []
    },
    "gpuClass": "standard",
    "kernelspec": {
      "display_name": "Python 3.8.8 ('base')",
      "language": "python",
      "name": "python3"
    },
    "language_info": {
      "codemirror_mode": {
        "name": "ipython",
        "version": 3
      },
      "file_extension": ".py",
      "mimetype": "text/x-python",
      "name": "python",
      "nbconvert_exporter": "python",
      "pygments_lexer": "ipython3",
      "version": "3.8.8"
    },
    "vscode": {
      "interpreter": {
        "hash": "e94a37844a0b2c58d590d23a1d3c94eb0291991d9599c29c548c65f82166f260"
      }
    }
  },
  "nbformat": 4,
  "nbformat_minor": 0
}
