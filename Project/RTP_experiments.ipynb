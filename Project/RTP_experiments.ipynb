{
 "cells": [
  {
   "cell_type": "markdown",
   "metadata": {},
   "source": [
    "## RTP experiments\n",
    "\n",
    "In this notebook, we will experimenting with the full range of parameters and hyperparameters. We will distill the best results using both Support Vector Machine and Logisitc Regression models.\n",
    "\n",
    "Fully run this notebook takes approximately 9 hours."
   ]
  },
  {
   "cell_type": "code",
   "execution_count": 1,
   "metadata": {},
   "outputs": [],
   "source": [
    "import os\n",
    "import numpy as np\n",
    "import pandas as pd\n",
    "from tqdm import tqdm\n",
    "import json\n",
    "import time\n",
    "\n",
    "from sklearn.svm import SVC\n",
    "from sklearn.linear_model import LogisticRegression\n",
    "\n",
    "import RTP.TemporalAbstraction as ta\n",
    "from  RTP.RTP_classifier import RTPclf, preprocess\n",
    "from RTP.Config import Options as opts\n",
    "\n",
    "from tools.tools import train_test_split, evaluate\n",
    "\n",
    "random_state = 2022"
   ]
  },
  {
   "cell_type": "markdown",
   "metadata": {},
   "source": [
    "#### Here is the code to drive our experimentation\n",
    "\n"
   ]
  },
  {
   "cell_type": "code",
   "execution_count": 2,
   "metadata": {},
   "outputs": [],
   "source": [
    "def experiment(model, MSS_pos, MSS_neg, combs, desc, logfile):\n",
    "    '''\n",
    "    Grid search through RTP parameters. \n",
    "\n",
    "    Imputs: model - base model (instantiated with hyperparameters)\n",
    "            MSS_pos, MSS_neg - Multivariate State Sequences for positive and \n",
    "                               negative data\n",
    "            logfile - log file\n",
    "\n",
    "    Output: dataframe with results of each permutation                  \n",
    "    '''\n",
    "    results = []\n",
    "    for comb in tqdm(combs, desc=desc):\n",
    "        max_gap, min_support_pos, min_support_neg = comb\n",
    "        rtp_params = {'max_gap': max_gap, \n",
    "                      'min_support_pos': min_support_pos, \n",
    "                      'min_support_neg': min_support_neg}\n",
    "\n",
    "        clf = RTPclf(model, rtp_params, logfile)\n",
    "        metrics = clf.trainCV(MSS_pos, MSS_neg, 5, verbose=False)\n",
    "        metrics.update(rtp_params)\n",
    "        results.append(metrics)\n",
    "\n",
    "    output = pd.DataFrame(results, \n",
    "                          columns=['max_gap', 'min_support_pos', 'min_support_neg', \n",
    "                                   'accuracy', 'precision', 'recall', 'f1', 'auc'])\n",
    "    return output\n",
    " "
   ]
  },
  {
   "cell_type": "markdown",
   "metadata": {},
   "source": [
    "#### Load the positive and negative MIMICIII data sets\n",
    "\n",
    "We will ONLY work with the training sets in this notebook, to avoid data leakage!"
   ]
  },
  {
   "cell_type": "code",
   "execution_count": 3,
   "metadata": {},
   "outputs": [],
   "source": [
    "pos_path = os.path.join('./data', 'pos_train.csv')\n",
    "pos_train = pd.read_csv(pos_path)\n",
    "\n",
    "neg_path = os.path.join('./data', 'neg_train.csv')\n",
    "neg_train = pd.read_csv(neg_path)"
   ]
  },
  {
   "cell_type": "markdown",
   "metadata": {},
   "source": [
    "Generate Multivariate State Sequences (this may take a minute or so)"
   ]
  },
  {
   "cell_type": "code",
   "execution_count": 4,
   "metadata": {},
   "outputs": [
    {
     "name": "stderr",
     "output_type": "stream",
     "text": [
      "100%|██████████| 361/361 [00:14<00:00, 24.51it/s]\n",
      "100%|██████████| 361/361 [00:11<00:00, 32.32it/s] \n"
     ]
    }
   ],
   "source": [
    "MSS_pos, MSS_neg = preprocess(pos_train, neg_train)"
   ]
  },
  {
   "cell_type": "markdown",
   "metadata": {},
   "source": [
    "Get combinations of RTP parameters"
   ]
  },
  {
   "cell_type": "code",
   "execution_count": 5,
   "metadata": {},
   "outputs": [
    {
     "name": "stdout",
     "output_type": "stream",
     "text": [
      "Number of combinations of RTP parameters: 175\n"
     ]
    }
   ],
   "source": [
    "max_gaps = np.arange(4, 11)\n",
    "min_supports_pos = np.linspace(0.1, 0.3, 5, dtype=float)\n",
    "min_supports_neg = np.linspace(0.1, 0.3, 5, dtype=float)\n",
    "combs = np.array(np.meshgrid(max_gaps, min_supports_pos, min_supports_neg)).T.reshape(-1, 3)\n",
    "print(f'Number of combinations of RTP parameters: {combs.shape[0]}')"
   ]
  },
  {
   "cell_type": "markdown",
   "metadata": {},
   "source": [
    "Prepare to accumulate best parameters"
   ]
  },
  {
   "cell_type": "code",
   "execution_count": 6,
   "metadata": {},
   "outputs": [],
   "source": [
    "best_params = {}"
   ]
  },
  {
   "cell_type": "markdown",
   "metadata": {},
   "source": [
    "### Trials with SVM\n",
    "\n",
    "We will be running a grid search over all the candidate RTP parameters plus the candidate kernel hyperparamters. We then will store the results sorted in descending order by F1 scores."
   ]
  },
  {
   "cell_type": "code",
   "execution_count": 7,
   "metadata": {},
   "outputs": [
    {
     "name": "stderr",
     "output_type": "stream",
     "text": [
      "Using kernel linear: 100%|██████████| 175/175 [1:35:16<00:00, 32.67s/it]\n",
      "Using kernel poly: 100%|██████████| 175/175 [1:35:05<00:00, 32.60s/it]\n",
      "Using kernel rbf: 100%|██████████| 175/175 [1:33:47<00:00, 32.16s/it]\n",
      "Using kernel sigmoid: 100%|██████████| 175/175 [1:36:54<00:00, 33.23s/it]"
     ]
    },
    {
     "name": "stdout",
     "output_type": "stream",
     "text": [
      "Total time: 06:21:5.15\n"
     ]
    },
    {
     "name": "stderr",
     "output_type": "stream",
     "text": [
      "\n"
     ]
    },
    {
     "data": {
      "text/html": [
       "<div>\n",
       "<style scoped>\n",
       "    .dataframe tbody tr th:only-of-type {\n",
       "        vertical-align: middle;\n",
       "    }\n",
       "\n",
       "    .dataframe tbody tr th {\n",
       "        vertical-align: top;\n",
       "    }\n",
       "\n",
       "    .dataframe thead th {\n",
       "        text-align: right;\n",
       "    }\n",
       "</style>\n",
       "<table border=\"1\" class=\"dataframe\">\n",
       "  <thead>\n",
       "    <tr style=\"text-align: right;\">\n",
       "      <th></th>\n",
       "      <th>kernel</th>\n",
       "      <th>max_gap</th>\n",
       "      <th>min_support_pos</th>\n",
       "      <th>min_support_neg</th>\n",
       "      <th>accuracy</th>\n",
       "      <th>precision</th>\n",
       "      <th>recall</th>\n",
       "      <th>f1</th>\n",
       "      <th>auc</th>\n",
       "    </tr>\n",
       "  </thead>\n",
       "  <tbody>\n",
       "    <tr>\n",
       "      <th>25</th>\n",
       "      <td>poly</td>\n",
       "      <td>9.0</td>\n",
       "      <td>0.1</td>\n",
       "      <td>0.10</td>\n",
       "      <td>0.811111</td>\n",
       "      <td>0.753950</td>\n",
       "      <td>0.925208</td>\n",
       "      <td>0.830846</td>\n",
       "      <td>0.810793</td>\n",
       "    </tr>\n",
       "    <tr>\n",
       "      <th>30</th>\n",
       "      <td>poly</td>\n",
       "      <td>10.0</td>\n",
       "      <td>0.1</td>\n",
       "      <td>0.10</td>\n",
       "      <td>0.811111</td>\n",
       "      <td>0.753950</td>\n",
       "      <td>0.925208</td>\n",
       "      <td>0.830846</td>\n",
       "      <td>0.810793</td>\n",
       "    </tr>\n",
       "    <tr>\n",
       "      <th>5</th>\n",
       "      <td>poly</td>\n",
       "      <td>5.0</td>\n",
       "      <td>0.1</td>\n",
       "      <td>0.10</td>\n",
       "      <td>0.808333</td>\n",
       "      <td>0.753986</td>\n",
       "      <td>0.916898</td>\n",
       "      <td>0.827500</td>\n",
       "      <td>0.808031</td>\n",
       "    </tr>\n",
       "    <tr>\n",
       "      <th>65</th>\n",
       "      <td>poly</td>\n",
       "      <td>10.0</td>\n",
       "      <td>0.1</td>\n",
       "      <td>0.15</td>\n",
       "      <td>0.808333</td>\n",
       "      <td>0.755149</td>\n",
       "      <td>0.914127</td>\n",
       "      <td>0.827068</td>\n",
       "      <td>0.808039</td>\n",
       "    </tr>\n",
       "    <tr>\n",
       "      <th>60</th>\n",
       "      <td>poly</td>\n",
       "      <td>9.0</td>\n",
       "      <td>0.1</td>\n",
       "      <td>0.15</td>\n",
       "      <td>0.808333</td>\n",
       "      <td>0.755149</td>\n",
       "      <td>0.914127</td>\n",
       "      <td>0.827068</td>\n",
       "      <td>0.808039</td>\n",
       "    </tr>\n",
       "  </tbody>\n",
       "</table>\n",
       "</div>"
      ],
      "text/plain": [
       "   kernel  max_gap  min_support_pos  min_support_neg  accuracy  precision  \\\n",
       "25   poly      9.0              0.1             0.10  0.811111   0.753950   \n",
       "30   poly     10.0              0.1             0.10  0.811111   0.753950   \n",
       "5    poly      5.0              0.1             0.10  0.808333   0.753986   \n",
       "65   poly     10.0              0.1             0.15  0.808333   0.755149   \n",
       "60   poly      9.0              0.1             0.15  0.808333   0.755149   \n",
       "\n",
       "      recall        f1       auc  \n",
       "25  0.925208  0.830846  0.810793  \n",
       "30  0.925208  0.830846  0.810793  \n",
       "5   0.916898  0.827500  0.808031  \n",
       "65  0.914127  0.827068  0.808039  \n",
       "60  0.914127  0.827068  0.808039  "
      ]
     },
     "execution_count": 7,
     "metadata": {},
     "output_type": "execute_result"
    }
   ],
   "source": [
    "kernels = ['linear', 'poly', 'rbf', 'sigmoid']\n",
    "results_svm = pd.DataFrame(columns=['kernel', 'max_gap', 'min_support_pos', 'min_support_neg', \n",
    "                                   'accuracy', 'precision', 'recall', 'f1', 'auc'])\n",
    "\n",
    "logfile = os.path.join('./RTP/logs', 'svm_experiments.log')\n",
    "if os.path.exists(logfile):\n",
    "     os.remove(logfile)\n",
    "\n",
    "start_time = time.time()\n",
    "for kernel in kernels:\n",
    "     model = SVC(gamma=0.1, C=1.0, kernel=kernel)\n",
    "     desc = f'Using kernel {kernel}'\n",
    "     results = experiment(model, MSS_pos, MSS_neg, combs, desc, logfile)\n",
    "     results['kernel'] = kernel\n",
    "     results_svm = pd.concat([results_svm, results])\n",
    "\n",
    "elapsed_time = time.time() - start_time\n",
    "hr = int(elapsed_time // 3600)\n",
    "elapsed_time %= 3600\n",
    "min = int(elapsed_time // 60)\n",
    "sec = elapsed_time % 60\n",
    "print(f'Total time: {hr:02d}:{min:02d}:{sec:0.2f}')\n",
    "\n",
    "results_svm.sort_values(by='f1', ascending=False, inplace=True)\n",
    "results_path = os.path.join('./RTP/results', 'results_svm.csv')\n",
    "results_svm.to_csv(results_path, index=False)\n",
    "\n",
    "# view the best five\n",
    "results_svm.head()"
   ]
  },
  {
   "cell_type": "markdown",
   "metadata": {},
   "source": [
    "Extract and save the best parameters/hyperparameters"
   ]
  },
  {
   "cell_type": "code",
   "execution_count": 8,
   "metadata": {},
   "outputs": [],
   "source": [
    "kernel, max_gap, min_support_pos, min_support_neg = results_svm.iloc[0][['kernel', \n",
    "                                                                         'max_gap', \n",
    "                                                                         'min_support_pos', \n",
    "                                                                         'min_support_neg']]\n",
    "best_params['SVM'] = {'kernel': kernel,\n",
    "          'max_gap': max_gap,\n",
    "          'min_support_pos': min_support_pos,\n",
    "          'min_support_neg': min_support_neg}\n"
   ]
  },
  {
   "cell_type": "markdown",
   "metadata": {},
   "source": [
    "### Trials with Logisitic Regression\n",
    "\n",
    "Using only default hyperparameters, grid search across all candidate RTP parameters"
   ]
  },
  {
   "cell_type": "code",
   "execution_count": 9,
   "metadata": {},
   "outputs": [
    {
     "name": "stderr",
     "output_type": "stream",
     "text": [
      "Using defaults: 100%|██████████| 175/175 [1:35:30<00:00, 32.75s/it]"
     ]
    },
    {
     "name": "stdout",
     "output_type": "stream",
     "text": [
      "Total time: 01:35:30.73\n"
     ]
    },
    {
     "name": "stderr",
     "output_type": "stream",
     "text": [
      "\n"
     ]
    },
    {
     "data": {
      "text/html": [
       "<div>\n",
       "<style scoped>\n",
       "    .dataframe tbody tr th:only-of-type {\n",
       "        vertical-align: middle;\n",
       "    }\n",
       "\n",
       "    .dataframe tbody tr th {\n",
       "        vertical-align: top;\n",
       "    }\n",
       "\n",
       "    .dataframe thead th {\n",
       "        text-align: right;\n",
       "    }\n",
       "</style>\n",
       "<table border=\"1\" class=\"dataframe\">\n",
       "  <thead>\n",
       "    <tr style=\"text-align: right;\">\n",
       "      <th></th>\n",
       "      <th>max_gap</th>\n",
       "      <th>min_support_pos</th>\n",
       "      <th>min_support_neg</th>\n",
       "      <th>accuracy</th>\n",
       "      <th>precision</th>\n",
       "      <th>recall</th>\n",
       "      <th>f1</th>\n",
       "      <th>auc</th>\n",
       "    </tr>\n",
       "  </thead>\n",
       "  <tbody>\n",
       "    <tr>\n",
       "      <th>174</th>\n",
       "      <td>10.0</td>\n",
       "      <td>0.3</td>\n",
       "      <td>0.30</td>\n",
       "      <td>0.787500</td>\n",
       "      <td>0.772251</td>\n",
       "      <td>0.817175</td>\n",
       "      <td>0.794078</td>\n",
       "      <td>0.787417</td>\n",
       "    </tr>\n",
       "    <tr>\n",
       "      <th>134</th>\n",
       "      <td>9.0</td>\n",
       "      <td>0.3</td>\n",
       "      <td>0.25</td>\n",
       "      <td>0.787500</td>\n",
       "      <td>0.772251</td>\n",
       "      <td>0.817175</td>\n",
       "      <td>0.794078</td>\n",
       "      <td>0.787417</td>\n",
       "    </tr>\n",
       "    <tr>\n",
       "      <th>139</th>\n",
       "      <td>10.0</td>\n",
       "      <td>0.3</td>\n",
       "      <td>0.25</td>\n",
       "      <td>0.787500</td>\n",
       "      <td>0.772251</td>\n",
       "      <td>0.817175</td>\n",
       "      <td>0.794078</td>\n",
       "      <td>0.787417</td>\n",
       "    </tr>\n",
       "    <tr>\n",
       "      <th>169</th>\n",
       "      <td>9.0</td>\n",
       "      <td>0.3</td>\n",
       "      <td>0.30</td>\n",
       "      <td>0.787500</td>\n",
       "      <td>0.772251</td>\n",
       "      <td>0.817175</td>\n",
       "      <td>0.794078</td>\n",
       "      <td>0.787417</td>\n",
       "    </tr>\n",
       "    <tr>\n",
       "      <th>9</th>\n",
       "      <td>5.0</td>\n",
       "      <td>0.3</td>\n",
       "      <td>0.10</td>\n",
       "      <td>0.786111</td>\n",
       "      <td>0.770235</td>\n",
       "      <td>0.817175</td>\n",
       "      <td>0.793011</td>\n",
       "      <td>0.786025</td>\n",
       "    </tr>\n",
       "  </tbody>\n",
       "</table>\n",
       "</div>"
      ],
      "text/plain": [
       "     max_gap  min_support_pos  min_support_neg  accuracy  precision    recall  \\\n",
       "174     10.0              0.3             0.30  0.787500   0.772251  0.817175   \n",
       "134      9.0              0.3             0.25  0.787500   0.772251  0.817175   \n",
       "139     10.0              0.3             0.25  0.787500   0.772251  0.817175   \n",
       "169      9.0              0.3             0.30  0.787500   0.772251  0.817175   \n",
       "9        5.0              0.3             0.10  0.786111   0.770235  0.817175   \n",
       "\n",
       "           f1       auc  \n",
       "174  0.794078  0.787417  \n",
       "134  0.794078  0.787417  \n",
       "139  0.794078  0.787417  \n",
       "169  0.794078  0.787417  \n",
       "9    0.793011  0.786025  "
      ]
     },
     "execution_count": 9,
     "metadata": {},
     "output_type": "execute_result"
    }
   ],
   "source": [
    "model = LogisticRegression(penalty='l2', dual=False, tol=1e-4, C=1.0, \n",
    "                           solver='lbfgs', max_iter=100)\n",
    "                           \n",
    "logfile = os.path.join('./RTP/logs', 'lr_experiments.log')\n",
    "if os.path.exists(logfile):\n",
    "    os.remove(logfile)\n",
    "\n",
    "start_time = time.time()\n",
    "results_lr = experiment(model, MSS_pos, MSS_neg, combs, 'Using defaults', \n",
    "                        logfile)\n",
    "\n",
    "elapsed_time = time.time() - start_time\n",
    "hr = int(elapsed_time // 3600)\n",
    "elapsed_time %= 3600\n",
    "min = int(elapsed_time // 60)\n",
    "sec = elapsed_time % 60\n",
    "print(f'Total time: {hr:02d}:{min:02d}:{sec:0.2f}')\n",
    "\n",
    "results_lr.sort_values(by='f1', ascending=False, inplace=True)\n",
    "results_path = os.path.join('./RTP/results', 'results_lr.csv')\n",
    "results_lr.to_csv(results_path, index=False)\n",
    "\n",
    "# View the best five\n",
    "results_lr.head()"
   ]
  },
  {
   "cell_type": "code",
   "execution_count": 10,
   "metadata": {},
   "outputs": [],
   "source": [
    "max_gap, min_support_pos, min_support_neg = results_lr.iloc[0][['max_gap', \n",
    "                                                                'min_support_pos', \n",
    "                                                                'min_support_neg']]\n",
    "best_params['LogisticRegression'] = {'max_gap': max_gap,\n",
    "                                     'min_support_pos': min_support_pos,\n",
    "                                     'min_support_neg': min_support_neg}"
   ]
  },
  {
   "cell_type": "markdown",
   "metadata": {},
   "source": [
    "#### Save best parameters as JSON file for evaluation process"
   ]
  },
  {
   "cell_type": "code",
   "execution_count": 11,
   "metadata": {},
   "outputs": [],
   "source": [
    "param_path = os.path.join('./RTP/results', 'best_parameters.json')\n",
    "with open(param_path, 'w') as FP:\n",
    "    json.dump(best_params, FP)"
   ]
  }
 ],
 "metadata": {
  "kernelspec": {
   "display_name": "Python 3.8.8 ('base')",
   "language": "python",
   "name": "python3"
  },
  "language_info": {
   "codemirror_mode": {
    "name": "ipython",
    "version": 3
   },
   "file_extension": ".py",
   "mimetype": "text/x-python",
   "name": "python",
   "nbconvert_exporter": "python",
   "pygments_lexer": "ipython3",
   "version": "3.8.8"
  },
  "orig_nbformat": 4,
  "vscode": {
   "interpreter": {
    "hash": "e94a37844a0b2c58d590d23a1d3c94eb0291991d9599c29c548c65f82166f260"
   }
  }
 },
 "nbformat": 4,
 "nbformat_minor": 2
}
