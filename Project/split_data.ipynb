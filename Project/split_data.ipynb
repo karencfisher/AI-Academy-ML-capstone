{
 "cells": [
  {
   "cell_type": "code",
   "execution_count": 1,
   "metadata": {},
   "outputs": [],
   "source": [
    "import os\n",
    "import pandas as pd\n",
    "from tools.tools import train_test_split\n"
   ]
  },
  {
   "cell_type": "markdown",
   "metadata": {},
   "source": [
    "### Train test split\n",
    "\n",
    "Splitting is done by visit identifiers. A random set of visits is pulled out preserve as a test set; the rest will be in th training test. Test size will be 10%.\n",
    "\n",
    "Using visit IDs will make sure each visit is in either set, and none overlap so as to prevent data leakage. \n",
    "\n",
    "This notebook should be run once before all the experimentation, RPT and LSTM included, for consistency."
   ]
  },
  {
   "cell_type": "code",
   "execution_count": 2,
   "metadata": {},
   "outputs": [
    {
     "data": {
      "text/plain": [
       "((70847, 44), (40019, 42), (3352, 44), (2645, 42))"
      ]
     },
     "execution_count": 2,
     "metadata": {},
     "output_type": "execute_result"
    }
   ],
   "source": [
    "random_state = 2022\n",
    "\n",
    "shock_path = os.path.join('./data', 'MIMIC_III_shock.csv')\n",
    "df_shock = pd.read_csv(shock_path)\n",
    "\n",
    "non_shock_path = os.path.join('./data', 'MIMIC_III_nonshock.csv')\n",
    "df_nonshock = pd.read_csv(non_shock_path)\n",
    "\n",
    "pos_train, pos_test = train_test_split(df_shock, 'VisitIdentifier', 0.1, random_state=random_state)\n",
    "neg_train, neg_test = train_test_split(df_nonshock, 'VisitIdentifier', 0.1, random_state=random_state)\n",
    "\n",
    "pos_train_path = os.path.join('./data', 'pos_train.csv')\n",
    "pos_train.to_csv(pos_train_path, index=False)\n",
    "\n",
    "neg_train_path = os.path.join('./data', 'neg_train.csv')\n",
    "neg_train.to_csv(neg_train_path, index=False)\n",
    "\n",
    "pos_test_path = os.path.join('./data', 'pos_test.csv')\n",
    "pos_test.to_csv(pos_test_path, index=False)\n",
    "\n",
    "neg_test_path = os.path.join('./data', 'neg_test.csv')\n",
    "neg_test.to_csv(neg_test_path, index=False)\n",
    "\n",
    "pos_train.shape, neg_train.shape, pos_test.shape, neg_test.shape"
   ]
  },
  {
   "cell_type": "code",
   "execution_count": null,
   "metadata": {},
   "outputs": [],
   "source": []
  }
 ],
 "metadata": {
  "kernelspec": {
   "display_name": "Python 3.8.8 ('base')",
   "language": "python",
   "name": "python3"
  },
  "language_info": {
   "codemirror_mode": {
    "name": "ipython",
    "version": 3
   },
   "file_extension": ".py",
   "mimetype": "text/x-python",
   "name": "python",
   "nbconvert_exporter": "python",
   "pygments_lexer": "ipython3",
   "version": "3.8.8"
  },
  "orig_nbformat": 4,
  "vscode": {
   "interpreter": {
    "hash": "e94a37844a0b2c58d590d23a1d3c94eb0291991d9599c29c548c65f82166f260"
   }
  }
 },
 "nbformat": 4,
 "nbformat_minor": 2
}
