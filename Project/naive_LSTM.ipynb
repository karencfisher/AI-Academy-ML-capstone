{
 "cells": [
  {
   "cell_type": "code",
   "execution_count": 1,
   "metadata": {},
   "outputs": [],
   "source": [
    "import pandas as pd\n",
    "import os\n",
    "import time\n",
    "import json\n",
    "import numpy as np\n",
    "\n",
    "import matplotlib.pyplot as plt\n",
    "import seaborn as sns\n",
    "\n",
    "from sklearn.metrics import confusion_matrix, classification_report\n",
    "\n",
    "from tensorflow.keras.models import Sequential, load_model\n",
    "from tensorflow.keras.layers import Masking, LSTM, Dense\n",
    "\n",
    "from LSTM.naive_preprocess import process_data\n",
    "from LSTM.LSTM_classifier import LSTMclf\n",
    "from LSTM.Config import Options as opts\n",
    "from tools.tools import evaluate"
   ]
  },
  {
   "cell_type": "markdown",
   "metadata": {},
   "source": [
    "#### Load and preprocess data"
   ]
  },
  {
   "cell_type": "code",
   "execution_count": 2,
   "metadata": {},
   "outputs": [
    {
     "name": "stdout",
     "output_type": "stream",
     "text": [
      "Train shape: (717, 500, 5) Test shape: (74, 500, 5)\n"
     ]
    }
   ],
   "source": [
    "pos_train_path = os.path.join('Data', 'pos_train.csv')\n",
    "pos_train = pd.read_csv(pos_train_path)\n",
    "\n",
    "neg_train_path = os.path.join('Data', 'neg_train.csv')\n",
    "neg_train = pd.read_csv(neg_train_path)\n",
    "\n",
    "pos_test_path = os.path.join('Data', 'pos_test.csv')\n",
    "pos_test = pd.read_csv(pos_test_path)\n",
    "\n",
    "neg_test_path = os.path.join('Data', 'neg_test.csv')\n",
    "neg_test = pd.read_csv(neg_test_path)\n",
    "\n",
    "train_data, train_labels = process_data(pos_train, neg_train)\n",
    "input_shape = np.array(train_data).shape\n",
    "test_data, test_labels = process_data(pos_test, neg_test)\n",
    "\n",
    "print(f'Train shape: {input_shape} Test shape: {np.array(test_data).shape}')"
   ]
  },
  {
   "cell_type": "markdown",
   "metadata": {},
   "source": [
    "#### Instantiate our model"
   ]
  },
  {
   "cell_type": "code",
   "execution_count": 3,
   "metadata": {},
   "outputs": [
    {
     "name": "stdout",
     "output_type": "stream",
     "text": [
      "Model: \"sequential\"\n",
      "_________________________________________________________________\n",
      " Layer (type)                Output Shape              Param #   \n",
      "=================================================================\n",
      " masking (Masking)           (None, 500, 5)            0         \n",
      "                                                                 \n",
      " lstm (LSTM)                 (None, 200)               164800    \n",
      "                                                                 \n",
      " dense (Dense)               (None, 1)                 201       \n",
      "                                                                 \n",
      "=================================================================\n",
      "Total params: 165001 (644.54 KB)\n",
      "Trainable params: 165001 (644.54 KB)\n",
      "Non-trainable params: 0 (0.00 Byte)\n",
      "_________________________________________________________________\n"
     ]
    }
   ],
   "source": [
    "clf = LSTMclf(input_shape)\n",
    "clf.model.summary()\n"
   ]
  },
  {
   "cell_type": "markdown",
   "metadata": {},
   "source": [
    "#### 5 fold CV on different batch sizes\n",
    "\n",
    "Accumulate the results for each to compare later"
   ]
  },
  {
   "cell_type": "code",
   "execution_count": 4,
   "metadata": {},
   "outputs": [
    {
     "name": "stdout",
     "output_type": "stream",
     "text": [
      "Cross validation with batch size 32.\n",
      "Beginning training LSTM with 5-fold validation...\n",
      "Epoch 1/10\n",
      "18/18 [==============================] - 21s 862ms/step - loss: 0.6298 - accuracy: 0.6603\n",
      "Epoch 2/10\n",
      "18/18 [==============================] - 13s 704ms/step - loss: 0.5812 - accuracy: 0.6864\n",
      "Epoch 3/10\n",
      "18/18 [==============================] - 13s 743ms/step - loss: 0.5583 - accuracy: 0.7056\n",
      "Epoch 4/10\n",
      "18/18 [==============================] - 14s 770ms/step - loss: 0.5455 - accuracy: 0.7352\n",
      "Epoch 5/10\n",
      "18/18 [==============================] - 14s 775ms/step - loss: 0.5203 - accuracy: 0.7491\n",
      "Epoch 6/10\n",
      "18/18 [==============================] - 13s 699ms/step - loss: 0.5008 - accuracy: 0.7509\n",
      "Epoch 7/10\n",
      "18/18 [==============================] - 13s 714ms/step - loss: 0.4934 - accuracy: 0.7753\n",
      "Epoch 8/10\n",
      "18/18 [==============================] - 15s 844ms/step - loss: 0.4689 - accuracy: 0.7840\n",
      "Epoch 9/10\n",
      "18/18 [==============================] - 15s 820ms/step - loss: 0.4770 - accuracy: 0.7805\n",
      "Epoch 10/10\n",
      "18/18 [==============================] - 15s 811ms/step - loss: 0.4693 - accuracy: 0.7770\n",
      "5/5 [==============================] - 3s 185ms/step\n",
      "18/18 [==============================] - 6s 222ms/step - loss: 0.4503 - accuracy: 0.7927\n",
      "5/5 [==============================] - 1s 184ms/step - loss: 0.8286 - accuracy: 0.5804\n"
     ]
    }
   ],
   "source": [
    "batch_sizes = [32, 64, 128, 256]\n",
    "results = []\n",
    "start_time = time.time()\n",
    "for batch_size in batch_sizes:\n",
    "    print(f'Cross validation with batch size {batch_size}.')\n",
    "    metrics = clf.trainCV(train_data, train_labels, 5, batch_size, 10)\n",
    "    metrics['batch_size'] = batch_size\n",
    "    results.append(metrics)\n",
    "\n",
    "    model_path = os.path.join('./LSTM/results/naive_results', f'LSTM{batch_size}.h5')\n",
    "    clf.model.save(model_path)\n",
    "\n",
    "elapsed_time = time.time() - start_time\n",
    "results_df = pd.DataFrame(results, columns=['batch_size', 'accuracy', 'precision', \n",
    "                                            'recall', 'f1', 'auc'])\n",
    "hr = int(elapsed_time // 3600)\n",
    "elapsed_time %= 3600\n",
    "min = int(elapsed_time // 60)\n",
    "sec = elapsed_time % 60\n",
    "print(f'Total time: {hr:02d}:{min:02d}:{sec:0.2f}\\n')\n",
    "\n",
    "result_path = os.path.join('./LSTM/results/naive_results', 'results.csv')\n",
    "results_df.to_csv(result_path)\n",
    "results_df"
   ]
  },
  {
   "cell_type": "markdown",
   "metadata": {},
   "source": [
    "#### Reload the model that looks best and evaluate against our held out test data"
   ]
  },
  {
   "cell_type": "code",
   "execution_count": 5,
   "metadata": {},
   "outputs": [
    {
     "name": "stdout",
     "output_type": "stream",
     "text": [
      "              precision    recall  f1-score   support\n",
      "\n",
      "           0       0.97      0.81      0.88        37\n",
      "           1       0.84      0.97      0.90        37\n",
      "\n",
      "    accuracy                           0.89        74\n",
      "   macro avg       0.90      0.89      0.89        74\n",
      "weighted avg       0.90      0.89      0.89        74\n",
      "\n"
     ]
    },
    {
     "data": {
      "image/png": "[encoded data removed]",
      "text/plain": [
       "<Figure size 432x288 with 1 Axes>"
      ]
     },
     "metadata": {
      "needs_background": "light"
     },
     "output_type": "display_data"
    }
   ],
   "source": [
    "model_path = os.path.join('./LSTM/results/naive_results', 'LSTM128.h5')\n",
    "clf = load_model(model_path, compile=False)\n",
    "\n",
    "pred = clf.predict(test_data).reshape(-1)\n",
    "pred = (pred > 0.5).astype(int)\n",
    "metrics = evaluate(test_labels, pred)\n",
    "\n",
    "print(classification_report(test_labels, pred))\n",
    "cm = confusion_matrix(test_labels, pred)\n",
    "sns.heatmap(cm, annot=True, fmt='d', cbar=False)\n",
    "plt.title('Confusion Matrix')\n",
    "plt.show()"
   ]
  },
  {
   "cell_type": "code",
   "execution_count": 6,
   "metadata": {},
   "outputs": [],
   "source": [
    "json_path = os.path.join('./LSTM/results/naive_results', 'metrics.json')\n",
    "with open(json_path, 'w') as FP:\n",
    "    json.dump(metrics, FP)"
   ]
  }
 ],
 "metadata": {
  "kernelspec": {
   "display_name": "edxclass2",
   "language": "python",
   "name": "python3"
  },
  "language_info": {
   "codemirror_mode": {
    "name": "ipython",
    "version": 3
   },
   "file_extension": ".py",
   "mimetype": "text/x-python",
   "name": "python",
   "nbconvert_exporter": "python",
   "pygments_lexer": "ipython3",
   "version": "3.9.16"
  },
  "orig_nbformat": 4
 },
 "nbformat": 4,
 "nbformat_minor": 2
}
