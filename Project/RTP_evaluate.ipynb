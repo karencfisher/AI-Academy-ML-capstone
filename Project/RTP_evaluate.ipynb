{
 "cells": [
  {
   "cell_type": "markdown",
   "metadata": {},
   "source": [
    "### RTP Model Evaluation\n",
    "\n",
    "This notebook is to use the parameters found in the experiments, retrain, and evaluate against unseen test data."
   ]
  },
  {
   "cell_type": "code",
   "execution_count": 1,
   "metadata": {},
   "outputs": [],
   "source": [
    "import os\n",
    "import json\n",
    "import numpy as np\n",
    "import pandas as pd\n",
    "import matplotlib.pyplot as plt\n",
    "import seaborn as sns\n",
    "\n",
    "from sklearn.svm import SVC\n",
    "from sklearn.linear_model import LogisticRegression\n",
    "from sklearn.metrics import confusion_matrix, classification_report\n",
    "\n",
    "import RTP.TemporalAbstraction as ta\n",
    "from  RTP.RTP_classifier import RTPclf, preprocess\n",
    "from RTP.Config import Options as opts\n",
    "\n",
    "from tools.tools import train_test_split\n",
    "\n",
    "import warnings\n",
    "warnings.filterwarnings('ignore')"
   ]
  },
  {
   "cell_type": "markdown",
   "metadata": {},
   "source": [
    "### Functions to train and evaluate a model"
   ]
  },
  {
   "cell_type": "code",
   "execution_count": 2,
   "metadata": {},
   "outputs": [],
   "source": [
    "def train(model, rtp_params, pos_train, neg_train, logfile):\n",
    "    clf = RTPclf(model, rtp_params, logfile)\n",
    "    MSS_pos, MSS_neg = preprocess(pos_train, neg_train)\n",
    "\n",
    "    metrics = clf.trainCV(MSS_pos, MSS_neg, 5)\n",
    "    metrics['model'] = str(model)\n",
    "    metrics['train/test'] = 'train'\n",
    "    metrics['max_gap'] = rtp_params['max_gap']\n",
    "    metrics['min_support_pos'] = rtp_params['min_support_pos']\n",
    "    metrics['min_support_neg'] = rtp_params['min_support_neg']\n",
    "    return clf, metrics"
   ]
  },
  {
   "cell_type": "code",
   "execution_count": 3,
   "metadata": {},
   "outputs": [],
   "source": [
    "def evaluate(clf, pos_test, neg_test):\n",
    "    MSS_test_pos, MSS_test_neg = preprocess(pos_test, neg_test)\n",
    "\n",
    "    labels = [1 for _ in range(len(MSS_test_pos))]\n",
    "    labels.extend([0 for _ in range(len(MSS_test_neg))])\n",
    "\n",
    "    pred_labels, metrics = clf.evaluate(MSS_test_pos, MSS_test_neg, verbose=False)\n",
    "    metrics['model'] = str(clf.model)\n",
    "    metrics['train/test'] = 'test'\n",
    "\n",
    "    print(classification_report(labels, pred_labels))\n",
    "    cm = confusion_matrix(labels, pred_labels)\n",
    "    sns.heatmap(cm, annot=True, fmt='d', cbar=False)\n",
    "    plt.title(str(clf.model))\n",
    "    plt.show()\n",
    "    return metrics"
   ]
  },
  {
   "cell_type": "markdown",
   "metadata": {},
   "source": [
    "#### Load data sets (both train and test)"
   ]
  },
  {
   "cell_type": "code",
   "execution_count": 4,
   "metadata": {},
   "outputs": [],
   "source": [
    "pos_train_path = os.path.join('./data', 'pos_train.csv')\n",
    "pos_train = pd.read_csv(pos_train_path)\n",
    "\n",
    "neg_train_path = os.path.join('./data', 'neg_train.csv')\n",
    "neg_train = pd.read_csv(neg_train_path)\n",
    "\n",
    "pos_test_path = os.path.join('./data', 'pos_test.csv')\n",
    "pos_test = pd.read_csv(pos_test_path)\n",
    "\n",
    "neg_test_path = os.path.join('./data', 'neg_test.csv')\n",
    "neg_test = pd.read_csv(neg_test_path)\n",
    "\n"
   ]
  },
  {
   "cell_type": "markdown",
   "metadata": {},
   "source": [
    "And load best parameters"
   ]
  },
  {
   "cell_type": "code",
   "execution_count": 5,
   "metadata": {},
   "outputs": [],
   "source": [
    "params_path = os.path.join('./RTP/results', 'best_parameters.json')\n",
    "with open(params_path, 'r') as FP:\n",
    "    best_params = json.load(FP)"
   ]
  },
  {
   "cell_type": "markdown",
   "metadata": {},
   "source": [
    "Set up logging"
   ]
  },
  {
   "cell_type": "code",
   "execution_count": 6,
   "metadata": {},
   "outputs": [],
   "source": [
    "logfile = os.path.join('./RTP/logs', 'test_rtp.log')\n",
    "if os.path.exists(logfile):\n",
    "    os.remove(logfile)"
   ]
  },
  {
   "cell_type": "markdown",
   "metadata": {},
   "source": [
    "#### Train and evaluate SVM as found in experiments"
   ]
  },
  {
   "cell_type": "markdown",
   "metadata": {},
   "source": [
    "Train the SVM model"
   ]
  },
  {
   "cell_type": "code",
   "execution_count": 7,
   "metadata": {},
   "outputs": [
    {
     "name": "stderr",
     "output_type": "stream",
     "text": [
      "100%|██████████| 361/361 [00:14<00:00, 24.30it/s]\n",
      "100%|██████████| 361/361 [00:10<00:00, 34.32it/s] \n"
     ]
    },
    {
     "name": "stdout",
     "output_type": "stream",
     "text": [
      "Generating binary matrix, this may take several minutes...\n",
      "Whew, that was hard!\n",
      "Beginning training SVM with 5-fold validation...\n",
      "Fold 1: train_accuracy = 0.8477508650519031 val_accuracy = 0.9444444444444444\n",
      "Fold 2: train_accuracy = 0.856401384083045 val_accuracy = 0.8819444444444444\n",
      "Fold 3: train_accuracy = 0.8719723183391004 val_accuracy = 0.8125\n",
      "Fold 4: train_accuracy = 0.8996539792387543 val_accuracy = 0.6666666666666666\n",
      "Fold 5: train_accuracy = 0.8858131487889274 val_accuracy = 0.75\n",
      "Training completed!\n",
      "Final Training Accuracy:  81.11%\n",
      "Parameters: {'kernel': 'poly', 'max_gap': 9.0, 'min_support_pos': 0.1, 'min_support_neg': 0.1}\n"
     ]
    }
   ],
   "source": [
    "params = best_params['SVM']\n",
    "model = SVC(gamma=0.1, C=1.0, kernel=params['kernel'])\n",
    "rtp_params = {'max_gap': params['max_gap'], \n",
    "              'min_support_pos': params['min_support_pos'], \n",
    "              'min_support_neg': params['min_support_neg']}\n",
    "svm_clf, svm_train_metrics = train(model, rtp_params, pos_train, neg_train, logfile)\n",
    "svm_train_metrics['kernel'] = params['kernel']\n",
    "print(f'Final Training Accuracy: {svm_train_metrics[\"accuracy\"] * 100: .2f}%')\n",
    "print(f'Parameters: {params}')\n",
    "test_results = pd.DataFrame([svm_train_metrics],\n",
    "                            columns=['model', 'kernel', 'max_gap', 'min_support_pos',\n",
    "                                     'min_support_neg', 'train/test', 'accuracy', \n",
    "                                     'precision', 'recall', 'f1', 'auc'])\n"
   ]
  },
  {
   "cell_type": "markdown",
   "metadata": {},
   "source": [
    "Evaluate the SVM model"
   ]
  },
  {
   "cell_type": "code",
   "execution_count": 8,
   "metadata": {},
   "outputs": [
    {
     "name": "stderr",
     "output_type": "stream",
     "text": [
      "100%|██████████| 37/37 [00:00<00:00, 40.54it/s]\n",
      "100%|██████████| 37/37 [00:01<00:00, 36.17it/s] \n"
     ]
    },
    {
     "name": "stdout",
     "output_type": "stream",
     "text": [
      "              precision    recall  f1-score   support\n",
      "\n",
      "           0       1.00      0.68      0.81        37\n",
      "           1       0.76      1.00      0.86        37\n",
      "\n",
      "    accuracy                           0.84        74\n",
      "   macro avg       0.88      0.84      0.83        74\n",
      "weighted avg       0.88      0.84      0.83        74\n",
      "\n"
     ]
    },
    {
     "data": {
      "image/png": "[encoded data removed]",
      "text/plain": [
       "<Figure size 432x288 with 1 Axes>"
      ]
     },
     "metadata": {
      "needs_background": "light"
     },
     "output_type": "display_data"
    }
   ],
   "source": [
    "svm_test_metrics = evaluate(svm_clf, pos_test, neg_test)\n",
    "svm_test_metrics['kernel'] = params['kernel']\n",
    "svm_test_metrics['max_gap'] = rtp_params['max_gap']\n",
    "svm_test_metrics['min_support_pos'] = rtp_params['min_support_pos']\n",
    "svm_test_metrics['min_support_neg'] = rtp_params['min_support_neg']\n",
    "test_results = test_results.append(svm_test_metrics, ignore_index=True)\n"
   ]
  },
  {
   "cell_type": "markdown",
   "metadata": {},
   "source": [
    "#### Logistic Regression"
   ]
  },
  {
   "cell_type": "code",
   "execution_count": 9,
   "metadata": {},
   "outputs": [
    {
     "name": "stderr",
     "output_type": "stream",
     "text": [
      "100%|██████████| 361/361 [00:14<00:00, 25.28it/s]\n",
      "100%|██████████| 361/361 [00:10<00:00, 34.48it/s] \n"
     ]
    },
    {
     "name": "stdout",
     "output_type": "stream",
     "text": [
      "Generating binary matrix, this may take several minutes...\n",
      "Whew, that was hard!\n",
      "Beginning training SVM with 5-fold validation...\n",
      "Fold 1: train_accuracy = 0.8477508650519031 val_accuracy = 0.8194444444444444\n",
      "Fold 2: train_accuracy = 0.8494809688581315 val_accuracy = 0.7777777777777778\n",
      "Fold 3: train_accuracy = 0.8650519031141869 val_accuracy = 0.8055555555555556\n",
      "Fold 4: train_accuracy = 0.8598615916955017 val_accuracy = 0.75\n",
      "Fold 5: train_accuracy = 0.8512110726643599 val_accuracy = 0.7847222222222222\n",
      "Training completed!\n",
      "Final Training Accuracy:  78.75%\n",
      "Parameters: {'max_gap': 10.0, 'min_support_pos': 0.3, 'min_support_neg': 0.3}\n"
     ]
    }
   ],
   "source": [
    "model = LogisticRegression()\n",
    "rtp_params = best_params['LogisticRegression']\n",
    "lr_clf, lr_train_metrics = train(model, rtp_params, pos_train, neg_train, logfile)\n",
    "print(f'Final Training Accuracy: {lr_train_metrics[\"accuracy\"] * 100: .2f}%')\n",
    "print(f'Parameters: {rtp_params}')\n",
    "test_results = test_results.append(lr_train_metrics, ignore_index=True)"
   ]
  },
  {
   "cell_type": "code",
   "execution_count": 10,
   "metadata": {},
   "outputs": [
    {
     "name": "stderr",
     "output_type": "stream",
     "text": [
      "100%|██████████| 37/37 [00:00<00:00, 47.05it/s]\n",
      "100%|██████████| 37/37 [00:00<00:00, 57.04it/s] \n"
     ]
    },
    {
     "name": "stdout",
     "output_type": "stream",
     "text": [
      "              precision    recall  f1-score   support\n",
      "\n",
      "           0       0.90      0.73      0.81        37\n",
      "           1       0.77      0.92      0.84        37\n",
      "\n",
      "    accuracy                           0.82        74\n",
      "   macro avg       0.84      0.82      0.82        74\n",
      "weighted avg       0.84      0.82      0.82        74\n",
      "\n"
     ]
    },
    {
     "data": {
      "image/png": "[encoded data removed]",
      "text/plain": [
       "<Figure size 432x288 with 1 Axes>"
      ]
     },
     "metadata": {
      "needs_background": "light"
     },
     "output_type": "display_data"
    }
   ],
   "source": [
    "lr_test_metrics = evaluate(lr_clf, pos_test, neg_test)\n",
    "lr_test_metrics['max_gap'] = rtp_params['max_gap']\n",
    "lr_test_metrics['min_support_pos'] = rtp_params['min_support_pos']\n",
    "lr_test_metrics['min_support_neg'] = rtp_params['min_support_neg']\n",
    "test_results = test_results.append(lr_test_metrics, ignore_index=True)\n"
   ]
  },
  {
   "cell_type": "markdown",
   "metadata": {},
   "source": [
    "#### Full results"
   ]
  },
  {
   "cell_type": "code",
   "execution_count": 11,
   "metadata": {},
   "outputs": [
    {
     "data": {
      "text/html": [
       "<div>\n",
       "<style scoped>\n",
       "    .dataframe tbody tr th:only-of-type {\n",
       "        vertical-align: middle;\n",
       "    }\n",
       "\n",
       "    .dataframe tbody tr th {\n",
       "        vertical-align: top;\n",
       "    }\n",
       "\n",
       "    .dataframe thead th {\n",
       "        text-align: right;\n",
       "    }\n",
       "</style>\n",
       "<table border=\"1\" class=\"dataframe\">\n",
       "  <thead>\n",
       "    <tr style=\"text-align: right;\">\n",
       "      <th></th>\n",
       "      <th>model</th>\n",
       "      <th>kernel</th>\n",
       "      <th>max_gap</th>\n",
       "      <th>min_support_pos</th>\n",
       "      <th>min_support_neg</th>\n",
       "      <th>train/test</th>\n",
       "      <th>accuracy</th>\n",
       "      <th>precision</th>\n",
       "      <th>recall</th>\n",
       "      <th>f1</th>\n",
       "      <th>auc</th>\n",
       "    </tr>\n",
       "  </thead>\n",
       "  <tbody>\n",
       "    <tr>\n",
       "      <th>0</th>\n",
       "      <td>SVC(gamma=0.1, kernel='poly')</td>\n",
       "      <td>poly</td>\n",
       "      <td>9.0</td>\n",
       "      <td>0.1</td>\n",
       "      <td>0.1</td>\n",
       "      <td>train</td>\n",
       "      <td>0.811111</td>\n",
       "      <td>0.753950</td>\n",
       "      <td>0.925208</td>\n",
       "      <td>0.830846</td>\n",
       "      <td>0.810793</td>\n",
       "    </tr>\n",
       "    <tr>\n",
       "      <th>1</th>\n",
       "      <td>SVC(gamma=0.1, kernel='poly')</td>\n",
       "      <td>poly</td>\n",
       "      <td>9.0</td>\n",
       "      <td>0.1</td>\n",
       "      <td>0.1</td>\n",
       "      <td>test</td>\n",
       "      <td>0.837838</td>\n",
       "      <td>0.755102</td>\n",
       "      <td>1.000000</td>\n",
       "      <td>0.860465</td>\n",
       "      <td>0.837838</td>\n",
       "    </tr>\n",
       "    <tr>\n",
       "      <th>2</th>\n",
       "      <td>LogisticRegression()</td>\n",
       "      <td>NaN</td>\n",
       "      <td>10.0</td>\n",
       "      <td>0.3</td>\n",
       "      <td>0.3</td>\n",
       "      <td>train</td>\n",
       "      <td>0.787500</td>\n",
       "      <td>0.772251</td>\n",
       "      <td>0.817175</td>\n",
       "      <td>0.794078</td>\n",
       "      <td>0.787417</td>\n",
       "    </tr>\n",
       "    <tr>\n",
       "      <th>3</th>\n",
       "      <td>LogisticRegression()</td>\n",
       "      <td>NaN</td>\n",
       "      <td>10.0</td>\n",
       "      <td>0.3</td>\n",
       "      <td>0.3</td>\n",
       "      <td>test</td>\n",
       "      <td>0.824324</td>\n",
       "      <td>0.772727</td>\n",
       "      <td>0.918919</td>\n",
       "      <td>0.839506</td>\n",
       "      <td>0.824324</td>\n",
       "    </tr>\n",
       "  </tbody>\n",
       "</table>\n",
       "</div>"
      ],
      "text/plain": [
       "                           model kernel  max_gap  min_support_pos  \\\n",
       "0  SVC(gamma=0.1, kernel='poly')   poly      9.0              0.1   \n",
       "1  SVC(gamma=0.1, kernel='poly')   poly      9.0              0.1   \n",
       "2           LogisticRegression()    NaN     10.0              0.3   \n",
       "3           LogisticRegression()    NaN     10.0              0.3   \n",
       "\n",
       "   min_support_neg train/test  accuracy  precision    recall        f1  \\\n",
       "0              0.1      train  0.811111   0.753950  0.925208  0.830846   \n",
       "1              0.1       test  0.837838   0.755102  1.000000  0.860465   \n",
       "2              0.3      train  0.787500   0.772251  0.817175  0.794078   \n",
       "3              0.3       test  0.824324   0.772727  0.918919  0.839506   \n",
       "\n",
       "        auc  \n",
       "0  0.810793  \n",
       "1  0.837838  \n",
       "2  0.787417  \n",
       "3  0.824324  "
      ]
     },
     "execution_count": 11,
     "metadata": {},
     "output_type": "execute_result"
    }
   ],
   "source": [
    "test_results_path = os.path.join('./RTP/results', 'test_results.csv')\n",
    "test_results.to_csv(test_results_path, index=False)\n",
    "test_results"
   ]
  }
 ],
 "metadata": {
  "kernelspec": {
   "display_name": "Python 3.8.8 ('base')",
   "language": "python",
   "name": "python3"
  },
  "language_info": {
   "codemirror_mode": {
    "name": "ipython",
    "version": 3
   },
   "file_extension": ".py",
   "mimetype": "text/x-python",
   "name": "python",
   "nbconvert_exporter": "python",
   "pygments_lexer": "ipython3",
   "version": "3.8.8"
  },
  "orig_nbformat": 4,
  "vscode": {
   "interpreter": {
    "hash": "e94a37844a0b2c58d590d23a1d3c94eb0291991d9599c29c548c65f82166f260"
   }
  }
 },
 "nbformat": 4,
 "nbformat_minor": 2
}
